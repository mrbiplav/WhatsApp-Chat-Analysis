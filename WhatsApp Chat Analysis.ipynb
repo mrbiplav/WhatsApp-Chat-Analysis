{
 "cells": [
  {
   "cell_type": "markdown",
   "metadata": {
    "id": "EX3OHA8qH0T3"
   },
   "source": [
    "## WhatsApp Chat Analysis"
   ]
  },
  {
   "cell_type": "code",
   "execution_count": 15,
   "metadata": {
    "id": "-Jq5_jkMBE8I"
   },
   "outputs": [],
   "source": [
    "import re\n",
    "import regex\n",
    "import pandas as pd\n",
    "import emoji\n",
    "import datetime"
   ]
  },
  {
   "cell_type": "markdown",
   "metadata": {},
   "source": [
    "## Processing Data"
   ]
  },
  {
   "cell_type": "code",
   "execution_count": 16,
   "metadata": {
    "id": "ccX8HRn5BL89"
   },
   "outputs": [],
   "source": [
    "def startsWithDateAndTimeAndroid(s):\n",
    "    pattern = '^([0-9]+)(\\/)([0-9]+)(\\/)([0-9]+), ([0-9]+):([0-9]+)[ ]?(AM|PM|am|pm)? -' \n",
    "    result = re.match(pattern, s)\n",
    "    if result:\n",
    "        return True\n",
    "    return False\n",
    "\n",
    "def startsWithDateAndTimeios(s):\n",
    "    pattern = '^\\[([0-9]+)([\\/-])([0-9]+)([\\/-])([0-9]+)[,]? ([0-9]+):([0-9][0-9]):([0-9][0-9])?[ ]?(AM|PM|am|pm)?\\]' \n",
    "    result = re.match(pattern, s)\n",
    "    if result:\n",
    "        return True\n",
    "    return False"
   ]
  },
  {
   "cell_type": "code",
   "execution_count": 17,
   "metadata": {
    "id": "EE7_sfSBXPU2"
   },
   "outputs": [],
   "source": [
    "def FindAuthor(s):\n",
    "  s=s.split(\":\")\n",
    "  if len(s)==2:\n",
    "    return True\n",
    "  else:\n",
    "    return False"
   ]
  },
  {
   "cell_type": "code",
   "execution_count": 18,
   "metadata": {
    "id": "s6WSoM1vB1zy"
   },
   "outputs": [],
   "source": [
    "def getDataPointAndroid(line):   \n",
    "    splitLine = line.split(' - ') \n",
    "    dateTime = splitLine[0]\n",
    "    date, time = dateTime.split(', ') \n",
    "    message = ' '.join(splitLine[1:])\n",
    "    if FindAuthor(message): \n",
    "        splitMessage = message.split(':') \n",
    "        author = splitMessage[0] \n",
    "        message = ' '.join(splitMessage[1:])\n",
    "    else:\n",
    "        author = None\n",
    "    return date, time, author, message\n",
    "\n",
    "def getDataPointios(line):\n",
    "\tsplitLine = line.split('] ')\n",
    "\tdateTime = splitLine[0]\n",
    "\tif ',' in dateTime:\n",
    "\t\tdate, time = dateTime.split(',')\n",
    "\telse:\n",
    "\t\tdate, time = dateTime.split(' ', 1)\n",
    "\tmessage = ' '.join(splitLine[1:])\n",
    "\tif FindAuthor(message):\n",
    "\t\tsplitMessage = message.split(':')\n",
    "\t\tauthor = splitMessage[0]\n",
    "\t\tmessage = ' '.join(splitMessage[1:])\n",
    "\telse:\n",
    "\t\tauthor = None\n",
    "\tif time[5]==\":\":\n",
    "\t\ttime = time[:5]+time[-3:]\n",
    "\telse:\n",
    "\t\tif 'AM' in time or 'PM' in time:\n",
    "\t\t\ttime = time[:6]+time[-3:]\n",
    "\t\telse:\n",
    "\t\t\ttime = time[:6]\n",
    "\treturn date, time, author, message"
   ]
  },
  {
   "cell_type": "code",
   "execution_count": 19,
   "metadata": {
    "id": "hfQQarnrXNsI"
   },
   "outputs": [],
   "source": [
    "def dateconv(date):\n",
    "  year=''\n",
    "  if '-' in date:\n",
    "    year = date.split('-')[2]\n",
    "    if len(year) == 4:\n",
    "      return datetime.datetime.strptime(date, \"[%d-%m-%Y\").strftime(\"%Y-%m-%d\")\n",
    "    elif len(year) ==2:\n",
    "      return datetime.datetime.strptime(date, \"[%d-%m-%y\").strftime(\"%Y-%m-%d\")\n",
    "  elif '/' in date:\n",
    "    year = date.split('/')[2]\n",
    "    if len(year) == 4:\n",
    "      return datetime.datetime.strptime(date, \"[%d/%m/%Y\").strftime(\"%Y-%m-%d\")\n",
    "    if len(year) ==2:\n",
    "      return datetime.datetime.strptime(date, \"[%m/%d/%y\").strftime(\"%Y-%m-%d\")"
   ]
  },
  {
   "cell_type": "code",
   "execution_count": 20,
   "metadata": {
    "id": "JFjvlDAwcYdc"
   },
   "outputs": [],
   "source": [
    "def split_count(text):\n",
    "\n",
    "    emoji_list = []\n",
    "    data = regex.findall(r'\\X', text)\n",
    "    for word in data:\n",
    "        if any(char in emoji.UNICODE_EMOJI for char in word):\n",
    "            emoji_list.append(word)\n",
    "\n",
    "    return emoji_list"
   ]
  },
  {
   "cell_type": "markdown",
   "metadata": {},
   "source": [
    "## Importing WhatsApp Database"
   ]
  },
  {
   "cell_type": "code",
   "execution_count": 21,
   "metadata": {
    "id": "PgfGiHyGB68i"
   },
   "outputs": [
    {
     "name": "stdout",
     "output_type": "stream",
     "text": [
      "17/12/2021, 12:40 - Messages and calls are end-to-end encrypted. No one outside of this chat, not even WhatsApp, can read or listen to them. Tap to learn more.\n",
      "\n"
     ]
    }
   ],
   "source": [
    "parsedData = [] # List to keep track of data so it can be used by a Pandas dataframe\n",
    "conversationPath = 'WhatsApp Chat with.txt' # WhatsApp database path\n",
    "with open(conversationPath, encoding=\"utf-8\") as fp:\n",
    "    device=''\n",
    "    first=fp.readline()\n",
    "    print(first)\n",
    "    if '[' in first:\n",
    "      device='ios'\n",
    "    else:\n",
    "      device=\"android\"\n",
    "    fp.readline() \n",
    "    messageBuffer = [] \n",
    "    date, time, author = None, None, None\n",
    "    while True:\n",
    "        line = fp.readline() \n",
    "        if not line: \n",
    "            break\n",
    "        if device==\"ios\":\n",
    "          line = line.strip()\n",
    "          if startsWithDateAndTimeios(line):\n",
    "            if len(messageBuffer) > 0:\n",
    "              parsedData.append([date, time, author, ' '.join(messageBuffer)])\n",
    "            messageBuffer.clear()\n",
    "            date, time, author, message = getDataPointios(line)\n",
    "            messageBuffer.append(message)\n",
    "          else:\n",
    "            line= (line.encode('ascii', 'ignore')).decode(\"utf-8\")\n",
    "            if startsWithDateAndTimeios(line):\n",
    "              if len(messageBuffer) > 0:\n",
    "                parsedData.append([date, time, author, ' '.join(messageBuffer)])\n",
    "              messageBuffer.clear()\n",
    "              date, time, author, message = getDataPointios(line)\n",
    "              messageBuffer.append(message)\n",
    "            else:\n",
    "              messageBuffer.append(line)\n",
    "        else:\n",
    "          line = line.strip()\n",
    "          if startsWithDateAndTimeAndroid(line):\n",
    "            if len(messageBuffer) > 0:\n",
    "              parsedData.append([date, time, author, ' '.join(messageBuffer)])\n",
    "            messageBuffer.clear()\n",
    "            date, time, author, message = getDataPointAndroid(line)\n",
    "            messageBuffer.append(message)\n",
    "          else:\n",
    "            messageBuffer.append(line)"
   ]
  },
  {
   "cell_type": "code",
   "execution_count": 22,
   "metadata": {
    "id": "8A3Qswc2ZkdF"
   },
   "outputs": [],
   "source": [
    "if device =='android':\n",
    "        df = pd.DataFrame(parsedData, columns=['Date', 'Time', 'Author', 'Message'])\n",
    "        df[\"Date\"] = pd.to_datetime(df[\"Date\"])\n",
    "        df = df.dropna()\n",
    "        df[\"emoji\"] = df[\"Message\"].apply(split_count)\n",
    "        URLPATTERN = r'(https?://\\S+)'\n",
    "        df['urlcount'] = df.Message.apply(lambda x: re.findall(URLPATTERN, x)).str.len()\n",
    "else:\n",
    "        df = pd.DataFrame(parsedData, columns=['Date', 'Time', 'Author', 'Message']) # Initialising a pandas Dataframe.\n",
    "        df = df.dropna()\n",
    "        df[\"Date\"] = df[\"Date\"].apply(dateconv)\n",
    "        df[\"Date\"] = pd.to_datetime(df[\"Date\"],format='%Y-%m-%d')\n",
    "        df[\"emoji\"] = df[\"Message\"].apply(split_count)\n",
    "        URLPATTERN = r'(https?://\\S+)'\n",
    "        df['urlcount'] = df.Message.apply(lambda x: re.findall(URLPATTERN, x)).str.len()"
   ]
  },
  {
   "cell_type": "code",
   "execution_count": 23,
   "metadata": {
    "id": "UxnSCcaGCPam"
   },
   "outputs": [
    {
     "data": {
      "text/html": [
       "<div>\n",
       "<style scoped>\n",
       "    .dataframe tbody tr th:only-of-type {\n",
       "        vertical-align: middle;\n",
       "    }\n",
       "\n",
       "    .dataframe tbody tr th {\n",
       "        vertical-align: top;\n",
       "    }\n",
       "\n",
       "    .dataframe thead th {\n",
       "        text-align: right;\n",
       "    }\n",
       "</style>\n",
       "<table border=\"1\" class=\"dataframe\">\n",
       "  <thead>\n",
       "    <tr style=\"text-align: right;\">\n",
       "      <th></th>\n",
       "      <th>Date</th>\n",
       "      <th>Time</th>\n",
       "      <th>Author</th>\n",
       "      <th>Message</th>\n",
       "      <th>emoji</th>\n",
       "      <th>urlcount</th>\n",
       "    </tr>\n",
       "  </thead>\n",
       "  <tbody>\n",
       "    <tr>\n",
       "      <th>0</th>\n",
       "      <td>2021-12-17</td>\n",
       "      <td>18:28</td>\n",
       "      <td>JSS Raj</td>\n",
       "      <td>&lt;Media omitted&gt;</td>\n",
       "      <td>[]</td>\n",
       "      <td>0</td>\n",
       "    </tr>\n",
       "    <tr>\n",
       "      <th>1</th>\n",
       "      <td>2021-12-17</td>\n",
       "      <td>19:34</td>\n",
       "      <td>JSS Raj</td>\n",
       "      <td>Exam date sheetbhejdo koi</td>\n",
       "      <td>[]</td>\n",
       "      <td>0</td>\n",
       "    </tr>\n",
       "  </tbody>\n",
       "</table>\n",
       "</div>"
      ],
      "text/plain": [
       "        Date   Time   Author                     Message emoji  urlcount\n",
       "0 2021-12-17  18:28  JSS Raj             <Media omitted>    []         0\n",
       "1 2021-12-17  19:34  JSS Raj   Exam date sheetbhejdo koi    []         0"
      ]
     },
     "execution_count": 23,
     "metadata": {},
     "output_type": "execute_result"
    }
   ],
   "source": [
    "df.head(2)"
   ]
  },
  {
   "cell_type": "code",
   "execution_count": 24,
   "metadata": {
    "id": "a1Gk-sfwDj3d"
   },
   "outputs": [
    {
     "name": "stdout",
     "output_type": "stream",
     "text": [
      "<class 'pandas.core.frame.DataFrame'>\n",
      "Int64Index: 14437 entries, 0 to 14697\n",
      "Data columns (total 6 columns):\n",
      " #   Column    Non-Null Count  Dtype         \n",
      "---  ------    --------------  -----         \n",
      " 0   Date      14437 non-null  datetime64[ns]\n",
      " 1   Time      14437 non-null  object        \n",
      " 2   Author    14437 non-null  object        \n",
      " 3   Message   14437 non-null  object        \n",
      " 4   emoji     14437 non-null  object        \n",
      " 5   urlcount  14437 non-null  int64         \n",
      "dtypes: datetime64[ns](1), int64(1), object(4)\n",
      "memory usage: 789.5+ KB\n"
     ]
    }
   ],
   "source": [
    "df.info()"
   ]
  },
  {
   "cell_type": "code",
   "execution_count": 25,
   "metadata": {
    "id": "RA4b5nSGC6Kr"
   },
   "outputs": [
    {
     "name": "stdout",
     "output_type": "stream",
     "text": [
      "<class 'pandas.core.frame.DataFrame'>\n",
      "Int64Index: 14437 entries, 0 to 14697\n",
      "Data columns (total 6 columns):\n",
      " #   Column    Non-Null Count  Dtype         \n",
      "---  ------    --------------  -----         \n",
      " 0   Date      14437 non-null  datetime64[ns]\n",
      " 1   Time      14437 non-null  object        \n",
      " 2   Author    14437 non-null  object        \n",
      " 3   Message   14437 non-null  object        \n",
      " 4   emoji     14437 non-null  object        \n",
      " 5   urlcount  14437 non-null  int64         \n",
      "dtypes: datetime64[ns](1), int64(1), object(4)\n",
      "memory usage: 789.5+ KB\n"
     ]
    }
   ],
   "source": [
    "df = df.dropna()\n",
    "df.info()"
   ]
  },
  {
   "cell_type": "code",
   "execution_count": 26,
   "metadata": {
    "id": "FzPSOF7yDosE"
   },
   "outputs": [
    {
     "data": {
      "text/plain": [
       "array(['JSS Raj', 'Aakash', 'Shivam', 'JSS Rohit', 'Parker',\n",
       "       'Biplav Singh', 'JSS Prashant', 'Harsh', 'Daku',\n",
       "       'JSS Ayush Hostel', 'JSS Vatsal', 'JSS Tushar Ece', 'JSS Krishna',\n",
       "       'JSS Shashank'], dtype=object)"
      ]
     },
     "execution_count": 26,
     "metadata": {},
     "output_type": "execute_result"
    }
   ],
   "source": [
    "df.Author.unique()"
   ]
  },
  {
   "cell_type": "markdown",
   "metadata": {},
   "source": [
    "## Grouping Data"
   ]
  },
  {
   "cell_type": "code",
   "execution_count": 27,
   "metadata": {
    "id": "-5f2SIuw0Bbz"
   },
   "outputs": [
    {
     "data": {
      "text/plain": [
       "JSS Prashant        3166\n",
       "Shivam              2454\n",
       "JSS Raj             1941\n",
       "Harsh               1389\n",
       "Daku                1359\n",
       "JSS Ayush Hostel     884\n",
       "Aakash               869\n",
       "JSS Rohit            692\n",
       "Biplav Singh         593\n",
       "JSS Vatsal           356\n",
       "Parker               297\n",
       "JSS Tushar Ece       275\n",
       "JSS Krishna          136\n",
       "JSS Shashank          26\n",
       "Name: Author, dtype: int64"
      ]
     },
     "execution_count": 27,
     "metadata": {},
     "output_type": "execute_result"
    }
   ],
   "source": [
    "#Counting unique user instances\n",
    "df['Author'].value_counts()"
   ]
  },
  {
   "cell_type": "markdown",
   "metadata": {},
   "source": [
    "## Plotting Data"
   ]
  },
  {
   "cell_type": "code",
   "execution_count": 28,
   "metadata": {
    "colab": {
     "base_uri": "https://localhost:8080/",
     "height": 542
    },
    "id": "lW0yRqyl5odQ",
    "outputId": "df9dbbdf-0b5d-4a2b-99a0-7684d3d26dd4"
   },
   "outputs": [
    {
     "data": {
      "text/plain": [
       "<AxesSubplot:>"
      ]
     },
     "execution_count": 28,
     "metadata": {},
     "output_type": "execute_result"
    },
    {
     "data": {
      "image/png": "[encoded data removed]",
      "text/plain": [
       "<Figure size 432x288 with 1 Axes>"
      ]
     },
     "metadata": {
      "needs_background": "light"
     },
     "output_type": "display_data"
    }
   ],
   "source": [
    "df['Author'].value_counts().plot(kind='bar')"
   ]
  }
 ],
 "metadata": {
  "colab": {
   "collapsed_sections": [
    "-4CmeKkd6hQa",
    "93uPXu5F-rzw",
    "2y5ROAL_7FLO",
    "v_DEtbSW7Nsr",
    "HHt0guBu8upV"
   ],
   "name": "One Figure Project #3.ipynb",
   "provenance": [],
   "toc_visible": true
  },
  "kernelspec": {
   "display_name": "Python 3 (ipykernel)",
   "language": "python",
   "name": "python3"
  },
  "language_info": {
   "codemirror_mode": {
    "name": "ipython",
    "version": 3
   },
   "file_extension": ".py",
   "mimetype": "text/x-python",
   "name": "python",
   "nbconvert_exporter": "python",
   "pygments_lexer": "ipython3",
   "version": "3.9.7"
  }
 },
 "nbformat": 4,
 "nbformat_minor": 1
}
